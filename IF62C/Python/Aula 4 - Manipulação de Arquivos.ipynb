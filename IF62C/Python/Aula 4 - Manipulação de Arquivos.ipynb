{
 "cells": [
  {
   "cell_type": "markdown",
   "metadata": {
    "slideshow": {
     "slide_type": "slide"
    }
   },
   "source": [
    "# Arquivos Texto\n",
    "\n",
    "Turiais com exemplos práticos:\n",
    "- https://medium.com/reflex%C3%A3o-computacional/arquivos-c3bf80da21aa\n",
    "- https://www.geeksforgeeks.org/file-handling-python/\n",
    "- https://www.w3schools.com/python/python_file_handling.asp"
   ]
  },
  {
   "cell_type": "markdown",
   "metadata": {
    "slideshow": {
     "slide_type": "slide"
    }
   },
   "source": [
    "Leitura e escrita em arquivos em Python são fáceis de gerenciar.  \n",
    "A seguir, veremos:\n",
    "- Como ler dados de um arquivo texto usando a função `open`.\n",
    "- O primeiro parâmetro é o nome do arquivo que queremos ler; \n",
    "- O segundo parâmetro, atribuído ao valor \"r\", afirmamos que queremos ler do arquivo."
   ]
  },
  {
   "cell_type": "code",
   "execution_count": 55,
   "metadata": {
    "slideshow": {
     "slide_type": "fragment"
    }
   },
   "outputs": [],
   "source": [
    "fobj = open(\"file/myFile.txt\", \"r\")"
   ]
  },
  {
   "cell_type": "markdown",
   "metadata": {
    "slideshow": {
     "slide_type": "slide"
    }
   },
   "source": [
    "O \"r\" é opcional. Um comando `open` com apenas um nome de arquivo é aberto\n",
    "para leitura por padrão. A função `open` retorna um objeto de arquivo, que\n",
    "oferece métodos e atributos de arquivo."
   ]
  },
  {
   "cell_type": "markdown",
   "metadata": {
    "slideshow": {
     "slide_type": "slide"
    }
   },
   "source": [
    "Depois de termos finalizado o trabalho com um arquivo, devemos fechá-lo\n",
    "novamente usando o método do objeto do arquivo `close`:"
   ]
  },
  {
   "cell_type": "code",
   "execution_count": 57,
   "metadata": {
    "slideshow": {
     "slide_type": "fragment"
    }
   },
   "outputs": [],
   "source": [
    "fobj.close()"
   ]
  },
  {
   "cell_type": "markdown",
   "metadata": {
    "slideshow": {
     "slide_type": "slide"
    }
   },
   "source": [
    "## Escrevendo em um arquivo texto"
   ]
  },
  {
   "cell_type": "markdown",
   "metadata": {
    "slideshow": {
     "slide_type": "slide"
    }
   },
   "source": [
    "- O seguinte código abre um objeto de arquivo de escrita em um arquivo chamado \"file/arq01.txt\";\n",
    "- Se o arquivo não existir, ele será criado com o nome do caminho fornecido;\n",
    "- Se o arquivo já existe, o Python o abre;\n",
    "- Quando os dados são gravados no arquivo e o arquivo é fechado (`close`), todos os dados anteriormente existentes no arquivo são apagados;  \n",
    "- Se você quiser que o texto de saída termine com uma nova linha, você deve incluir o caractere de escape `\\n` na string. \n",
    "- O exemplo a seguir escreve duas linhas de texto no arquivo:"
   ]
  },
  {
   "cell_type": "code",
   "execution_count": 58,
   "metadata": {
    "slideshow": {
     "slide_type": "fragment"
    }
   },
   "outputs": [],
   "source": [
    "f = open(\"file/arq01.txt\", 'w')\n",
    "f.write(\"First line.\\nSecond line.\\n\")\n",
    "f.close()"
   ]
  },
  {
   "cell_type": "markdown",
   "metadata": {
    "slideshow": {
     "slide_type": "slide"
    }
   },
   "source": [
    "## Escrevendo números em um arquivo texto"
   ]
  },
  {
   "cell_type": "raw",
   "metadata": {
    "slideshow": {
     "slide_type": "fragment"
    }
   },
   "source": [
    "34.6 22.33 66.75\n",
    "77.12 21.44 99.01"
   ]
  },
  {
   "cell_type": "markdown",
   "metadata": {
    "slideshow": {
     "slide_type": "slide"
    }
   },
   "source": [
    "- Todos os dados de saída ou entrada de um arquivo texto devem ser strings.\n",
    "- Os números devem ser convertidos em strings antes da saída; \n",
    "- Essas strings devem ser convertidas de volta em números após a entrada;  \n",
    "- Em Python, os dados podem ser convertidos em strings usando a função `str`.\n",
    "\n",
    "O código abaixo ilustra a saída de inteiros para um arquivo texto. \n",
    "Valores entre 1 e 500 são gerados e escritos em um arquivo texto chamado \"file/int.txt\". \n",
    "O caractere de \\textit{newline} é o separador."
   ]
  },
  {
   "cell_type": "code",
   "execution_count": 69,
   "metadata": {
    "slideshow": {
     "slide_type": "fragment"
    }
   },
   "outputs": [],
   "source": [
    "import random\n",
    "f = open(\"file/int.txt\", 'w')\n",
    "for count in range(20):\n",
    "    number = random.randint(1, 30)\n",
    "    f.write(str(number) + \"\\n\")\n",
    "f.close()"
   ]
  },
  {
   "cell_type": "markdown",
   "metadata": {
    "slideshow": {
     "slide_type": "slide"
    }
   },
   "source": [
    "## Lendo dados de um arquivo texto"
   ]
  },
  {
   "cell_type": "markdown",
   "metadata": {
    "slideshow": {
     "slide_type": "slide"
    }
   },
   "source": [
    "- A maneira mais simples é usar o método `read`; \n",
    "- `read` insere todo o conteúdo do arquivo como uma seqüência única em um objeto string; \n",
    "- Se o arquivo contiver várias linhas de texto, os caracteres de nova linha (\\textit{newline}) serão incorporados nesta string."
   ]
  },
  {
   "cell_type": "code",
   "execution_count": 61,
   "metadata": {
    "slideshow": {
     "slide_type": "fragment"
    }
   },
   "outputs": [
    {
     "data": {
      "text/plain": [
       "'Python é uma linguagem de programação de alto nível\\ninterpretada de script, imperativa, orientada a objetos, \\nfuncional, de tipagem dinâmica e forte. \\nFoi lançada por Guido van Rossum em 1991.\\n'"
      ]
     },
     "execution_count": 61,
     "metadata": {},
     "output_type": "execute_result"
    }
   ],
   "source": [
    "f = open(\"file/myFile.txt\", 'r')\n",
    "text = f.read()\n",
    "text"
   ]
  },
  {
   "cell_type": "code",
   "execution_count": 62,
   "metadata": {},
   "outputs": [
    {
     "data": {
      "text/plain": [
       "str"
      ]
     },
     "execution_count": 62,
     "metadata": {},
     "output_type": "execute_result"
    }
   ],
   "source": [
    "type(text)"
   ]
  },
  {
   "cell_type": "code",
   "execution_count": 63,
   "metadata": {
    "slideshow": {
     "slide_type": "fragment"
    }
   },
   "outputs": [
    {
     "name": "stdout",
     "output_type": "stream",
     "text": [
      "Python é uma linguagem de programação de alto nível\n",
      "interpretada de script, imperativa, orientada a objetos, \n",
      "funcional, de tipagem dinâmica e forte. \n",
      "Foi lançada por Guido van Rossum em 1991.\n",
      "\n"
     ]
    }
   ],
   "source": [
    "print(text)"
   ]
  },
  {
   "cell_type": "markdown",
   "metadata": {},
   "source": [
    "### Leitura de dados formatados de um arquivo"
   ]
  },
  {
   "cell_type": "markdown",
   "metadata": {
    "slideshow": {
     "slide_type": "slide"
    }
   },
   "source": [
    "- O método `rstrip` é usado para retirar os espaços em branco (incluindo o caracter de nova linha ou \\textit{newline}) do lado direito da string \"line\";\n",
    "- Outra aplicação importante consiste em ler e processar o texto, uma linha de cada vez; \n",
    "- O laço `for` exibe um objeto de arquivo como uma seqüência de linhas de texto. Em cada iteração do laço, a variável de iteração está vinculada à próxima linha de texto na seqüência."
   ]
  },
  {
   "cell_type": "code",
   "execution_count": 66,
   "metadata": {
    "scrolled": true,
    "slideshow": {
     "slide_type": "fragment"
    }
   },
   "outputs": [
    {
     "name": "stdout",
     "output_type": "stream",
     "text": [
      "Python é uma linguagem de programação de alto nível\n",
      "interpretada de script, imperativa, orientada a objetos,\n",
      "funcional, de tipagem dinâmica e forte.\n",
      "Foi lançada por Guido van Rossum em 1991.\n"
     ]
    }
   ],
   "source": [
    "fobj = open(\"file/myFile.txt\")\n",
    "for line in fobj:\n",
    "    print(line.rstrip())\n",
    "fobj.close()"
   ]
  },
  {
   "cell_type": "markdown",
   "metadata": {},
   "source": [
    "#### Método `readline`"
   ]
  },
  {
   "cell_type": "markdown",
   "metadata": {
    "slideshow": {
     "slide_type": "slide"
    }
   },
   "source": [
    "- O método `readline` é utilizado para ler um número especifico de linhas de um arquivo;\n",
    "- Consome uma linha de entrada e retorna essa string (incluindo o \\textit{newline}); \n",
    "- Se readline encontrar o final do arquivo, ele retorna a string vazia. "
   ]
  },
  {
   "cell_type": "code",
   "execution_count": 67,
   "metadata": {
    "slideshow": {
     "slide_type": "fragment"
    }
   },
   "outputs": [
    {
     "name": "stdout",
     "output_type": "stream",
     "text": [
      "Python é uma linguagem de programação de alto nível\n",
      "\n",
      "interpretada de script, imperativa, orientada a objetos, \n",
      "\n",
      "funcional, de tipagem dinâmica e forte. \n",
      "\n",
      "Foi lançada por Guido van Rossum em 1991.\n",
      "\n"
     ]
    }
   ],
   "source": [
    "f = open(\"file/myFile.txt\", 'r')\n",
    "while True:\n",
    "    line = f.readline()\n",
    "    if line == \"\":\n",
    "        break\n",
    "    print(line)"
   ]
  },
  {
   "cell_type": "markdown",
   "metadata": {
    "slideshow": {
     "slide_type": "slide"
    }
   },
   "source": [
    "## Lendo números de um arquivo texto"
   ]
  },
  {
   "cell_type": "markdown",
   "metadata": {},
   "source": [
    "#### 1) Números separados por linhas:"
   ]
  },
  {
   "cell_type": "markdown",
   "metadata": {
    "slideshow": {
     "slide_type": "slide"
    }
   },
   "source": [
    "- Em Python, as representações de seqüência de números inteiros e números de ponto flutuante podem ser convertidas para os próprios números usando as funções `int` e `float`, respectivamente;\n",
    "- Precisamos converter cada linha para o inteiro contido nele; \n",
    "- Utiliza-se o método `strip` para remover o \\textit{newline} e, em seguida, executa a função `int` para obter o valor inteiro.\n"
   ]
  },
  {
   "cell_type": "code",
   "execution_count": 38,
   "metadata": {
    "slideshow": {
     "slide_type": "fragment"
    }
   },
   "outputs": [
    {
     "name": "stdout",
     "output_type": "stream",
     "text": [
      "The sum is 460\n"
     ]
    }
   ],
   "source": [
    "f = open(\"file/int.txt\", 'r')\n",
    "sum = 0\n",
    "for line in f:\n",
    "    line = line.strip()\n",
    "    number = int(line)\n",
    "    print(number)\n",
    "    sum += number\n",
    "print(\"The sum is\", sum)"
   ]
  },
  {
   "cell_type": "markdown",
   "metadata": {},
   "source": [
    "#### 2) Números separados por espaço;"
   ]
  },
  {
   "cell_type": "markdown",
   "metadata": {
    "slideshow": {
     "slide_type": "slide"
    }
   },
   "source": [
    "- Cada linha pode conter vários números inteiros separados por espaços; \n",
    "- Utilizamos o  método de seqüência `split` para obter uma lista das cadeias de caracteres que representam esses números inteiros; \n",
    "- Processa cada seqüência desta lista com outro laço for.\n",
    "\n",
    "* Modificamos o exemplo anterior para lidar com números inteiros separados por espaços e/ou caracteres de \\textit{newline}."
   ]
  },
  {
   "cell_type": "code",
   "execution_count": 70,
   "metadata": {
    "slideshow": {
     "slide_type": "fragment"
    }
   },
   "outputs": [
    {
     "name": "stdout",
     "output_type": "stream",
     "text": [
      "The sum is 673\n"
     ]
    }
   ],
   "source": [
    "f = open(\"file/int2.txt\", 'r')\n",
    "sum = 0\n",
    "for line in f:\n",
    "    wordlist = line.split()\n",
    "    for word in wordlist:\n",
    "        number = int(word)\n",
    "        sum += number \n",
    "print(\"The sum is\", sum)"
   ]
  },
  {
   "cell_type": "markdown",
   "metadata": {},
   "source": [
    "### Outra forma de manipulação de arquivos"
   ]
  },
  {
   "cell_type": "markdown",
   "metadata": {},
   "source": [
    "- Visualização do conteúdo:"
   ]
  },
  {
   "cell_type": "code",
   "execution_count": 16,
   "metadata": {},
   "outputs": [
    {
     "name": "stdout",
     "output_type": "stream",
     "text": [
      "First line.\n",
      "\n",
      "Second line.\n",
      "\n"
     ]
    }
   ],
   "source": [
    "with open('file/arq01.txt', 'r') as tex:\n",
    "  for linha in tex:\n",
    "    print(linha)\n",
    "tex.close()    "
   ]
  },
  {
   "cell_type": "markdown",
   "metadata": {},
   "source": [
    "- Armazena o conteúdo em uma lista:"
   ]
  },
  {
   "cell_type": "code",
   "execution_count": 15,
   "metadata": {},
   "outputs": [
    {
     "name": "stdout",
     "output_type": "stream",
     "text": [
      "['First line.\\n', 'Second line.\\n']\n"
     ]
    }
   ],
   "source": [
    "with open('file/arq01.txt') as tex:\n",
    "  r = tex.readlines()\n",
    "print(r)"
   ]
  },
  {
   "cell_type": "markdown",
   "metadata": {},
   "source": [
    "- Cria um novo arquivo e armazena conteúdo:"
   ]
  },
  {
   "cell_type": "code",
   "execution_count": 17,
   "metadata": {},
   "outputs": [],
   "source": [
    "with open('file/arq02.txt', 'w') as texto:\n",
    "  texto.write('Olá a todos')"
   ]
  },
  {
   "cell_type": "code",
   "execution_count": 18,
   "metadata": {},
   "outputs": [
    {
     "name": "stdout",
     "output_type": "stream",
     "text": [
      "Olá a todos\n"
     ]
    }
   ],
   "source": [
    "with open('file/arq02.txt', 'r') as tex:\n",
    "  for linha in tex:\n",
    "    print(linha)"
   ]
  },
  {
   "cell_type": "markdown",
   "metadata": {
    "slideshow": {
     "slide_type": "slide"
    }
   },
   "source": [
    "# Editando Arquivos texto"
   ]
  },
  {
   "cell_type": "markdown",
   "metadata": {
    "slideshow": {
     "slide_type": "slide"
    }
   },
   "source": [
    "Com o modo de operação \"r+\" (ver tabela abaixo), podemos ler todo o texto de um arquivo e fazer qualquer alteração que julgarmos necessária. O texto alterado pode então ser sobrescrito sobre o texto anterior. Ao realizar a leitura de um caractere, ou uma linha, automaticamente o indicador de posição do arquivo se move para o próximo caractere (ou linha). Para voltar ao início do arquivo novamente você pode usar o método `seek`:\n",
    "```\n",
    "seek(offset, from_what)\n",
    "```\n",
    "onde o primeiro parâmetro indica quantos bytes se mover a partir do valor inicial from_what.\n",
    "Os valores de from_what podem ser:\n",
    "  0: indica início do arquivo.\n",
    "  1: indica a posição atual no arquivo.\n",
    "  2: indica a posição final do arquivo.\n",
    "  \n",
    "Os modos de abertura de arquivo texto e o indicador de posição são:\n",
    " \n",
    " | modo | operações | indicador de posição |\n",
    " | :-:  | :-:       | :-: |\n",
    " | r    | leitura   | início do arquivo    |\n",
    " | r+   | leitura e escrita | início do arquivo |\n",
    " | w    | escrita | início do arquivo |\n",
    " | a    | (append) escrita | final do arquivo |"
   ]
  },
  {
   "cell_type": "markdown",
   "metadata": {
    "slideshow": {
     "slide_type": "slide"
    }
   },
   "source": [
    "# Tratamento de exceções"
   ]
  },
  {
   "cell_type": "markdown",
   "metadata": {
    "slideshow": {
     "slide_type": "fragment"
    }
   },
   "source": [
    "Se abrirmos um arquivo para leitura e ele não existir, ocorrerá um erro:"
   ]
  },
  {
   "cell_type": "code",
   "execution_count": null,
   "metadata": {
    "slideshow": {
     "slide_type": "fragment"
    }
   },
   "outputs": [],
   "source": [
    "arq = open(\"naoExiste.txt\", \"r\")"
   ]
  },
  {
   "cell_type": "markdown",
   "metadata": {
    "slideshow": {
     "slide_type": "slide"
    }
   },
   "source": [
    "Exceções são eventos inesperados que ocorrem durante a execução de um programa. Uma exceção pode resultar de um erro lógico ou de uma situação imprevista, como no exemplo anterior. Em Python, as exceções (também conhecidas como erros) são objetos que são criados (ou lançados) por código que encontra uma circunstância inesperada. Uma exceção pode ser capturada por um contexto que \"trata\" a exceção de forma apropriada. Se não for detectada, uma exceção faz com que o interpretador Python pare de executar o programa e emita uma mensagem apropriada para o console. Vamos examinar os tipos de erro mais comuns em Python e o mecanismo para capturar e manipular erros que foram gerados."
   ]
  },
  {
   "cell_type": "markdown",
   "metadata": {
    "slideshow": {
     "slide_type": "slide"
    }
   },
   "source": [
    "## Tipos de Erros mais comuns"
   ]
  },
  {
   "cell_type": "markdown",
   "metadata": {
    "slideshow": {
     "slide_type": "slide"
    }
   },
   "source": [
    "O Python inclui uma hierarquia rica de classes de exceções que designam várias categorias de erros. Vários desses erros podem ser levantados em casos excepcionais por comportamentos apresentados neste curso. Por exemplo, o uso de um identificador indefinido em uma expressão faz com que seja lançada uma exceção `NameError`. O envio do número, tipo ou valor errados para os parâmetros de uma função é outra causa comum para uma exceção. Por exemplo, uma chamada para `abs(\"hello\")` causará um `TypeError` porque o parâmetro não é numérico e uma chamada para `abs(3, 5)` causará um `TypeError` porque somente um parâmetro é esperado. Normalmente, um `ValueError` é gerado quando o número e tipo de parâmetros corretos são enviados, mas um valor é ilegítimo para o contexto da função. Por exemplo, o construtor `int` aceita uma string, como em `int(\"137\")`, mas um `ValueError` é gerado se essa string não representa um inteiro, como acontece com `int(\"3.14\")` ou `int(\"hello\")`."
   ]
  },
  {
   "cell_type": "markdown",
   "metadata": {
    "slideshow": {
     "slide_type": "slide"
    }
   },
   "source": [
    "Os tipos de seqüência de Python (por exemplo, lista, tupla e str) lançam um `IndexError` quando a expressão como `data[k]` é usada com um inteiro $k$ que não é um índice válido para a sequência dada. Os conjuntos e os dicionários lançam um `KeyError` quando uma tentativa é feita para acessar um elemento inexistente."
   ]
  },
  {
   "cell_type": "markdown",
   "metadata": {
    "slideshow": {
     "slide_type": "slide"
    }
   },
   "source": [
    "## Tratando uma exceção"
   ]
  },
  {
   "cell_type": "markdown",
   "metadata": {
    "slideshow": {
     "slide_type": "slide"
    }
   },
   "source": [
    "O objetivo do tratamento de exceções é evitar totalmente a possibilidade de uma exceção ser levantada através do uso de um teste condicional pró-ativo. Na possibilidade de divisão por zero, podemos evitar a situação ofensiva, escrevendo:\n",
    "\n",
    "```\n",
    "if y! = 0:\n",
    "    ratio = x / y\n",
    "else:\n",
    "    ... faça alguma coisa ...\n",
    "```\n",
    "\n",
    "A filosofia, muitas vezes abraçada pelos programadores de Python, é que \"é mais fácil pedir perdão do que obter permissão\". Essa citação é atribuída a Grace Hopper, pioneira em informática. O sentimento é que não precisamos gastar tempo de execução extra salvaguardando contra todos os casos excepcionais, desde que haja um mecanismo para lidar com um problema depois que ele surgir."
   ]
  },
  {
   "cell_type": "markdown",
   "metadata": {
    "slideshow": {
     "slide_type": "slide"
    }
   },
   "source": [
    "Em Python, esta filosofia é implementada usando uma estrutura de controle de tentativa-e-erro. Revisando nosso exemplo, a operação de divisão pode ser salvaguardada da seguinte maneira:\n",
    "\n",
    "```\n",
    "try:\n",
    "    ratio = x / y\n",
    "except ZeroDivisionError:\n",
    "    ... faça alguma coisa ...\n",
    "```\n",
    "\n",
    "Nesta estrutura, o bloco \"try\" é o código principal a ser executado. Embora seja um único comando neste exemplo, ele geralmente pode ser um bloco maior de código. O bloco \"try\" pode ser seguido de um ou mais casos \"except\", cada um com um tipo de erro identificado e um bloco de código que deve ser executado se o erro designado for lançado no bloco \"try\".\n",
    "A vantagem relativa de usar uma estrutura de tentativa-e-erro é que o caso não excepcional funciona de forma eficiente, sem verificações estranhas para a condição excepcional."
   ]
  },
  {
   "cell_type": "markdown",
   "metadata": {
    "slideshow": {
     "slide_type": "slide"
    }
   },
   "source": [
    "O tratamento de exceções é particularmente útil ao trabalhar com a entrada do usuário, ou ao ler ou escrever para arquivos, porque tais interações são inerentemente menos previsíveis.\n",
    "No nosso exemplo para arquivo inexixtente podemos fazer:"
   ]
  },
  {
   "cell_type": "code",
   "execution_count": 71,
   "metadata": {
    "slideshow": {
     "slide_type": "fragment"
    }
   },
   "outputs": [
    {
     "name": "stdout",
     "output_type": "stream",
     "text": [
      "Não foi possível abrir o arquivo.\n",
      "fim\n"
     ]
    }
   ],
   "source": [
    "try:\n",
    "    arq = open(\"files/myFile.txt\", \"r\")\n",
    "    print(\"Abri o arquivo com sucesso.\")\n",
    "except FileNotFoundError:\n",
    "    print(\"Não foi possível abrir o arquivo.\")\n",
    "print(\"fim\")"
   ]
  },
  {
   "cell_type": "markdown",
   "metadata": {
    "slideshow": {
     "slide_type": "slide"
    }
   },
   "source": [
    "O exemplo abaixo lê um arquivo e mostra o conteúdo dele na tela:"
   ]
  },
  {
   "cell_type": "code",
   "execution_count": 52,
   "metadata": {
    "slideshow": {
     "slide_type": "fragment"
    }
   },
   "outputs": [
    {
     "name": "stdout",
     "output_type": "stream",
     "text": [
      "First line.\n",
      "Second line.\n"
     ]
    }
   ],
   "source": [
    "try:\n",
    "    arq = open(\"file/arq01.txt\", \"r\")\n",
    "    while True:\n",
    "        s = arq.read(1)\n",
    "        print(s, end=\"\")\n",
    "        if(s == \"\"):\n",
    "            break\n",
    "    arq.close()\n",
    "except:\n",
    "    print(\"Arquivo versos.txt não pode ser aberto.\")"
   ]
  },
  {
   "cell_type": "code",
   "execution_count": null,
   "metadata": {},
   "outputs": [],
   "source": []
  },
  {
   "cell_type": "markdown",
   "metadata": {
    "slideshow": {
     "slide_type": "slide"
    }
   },
   "source": [
    "# Arquivos Binários"
   ]
  },
  {
   "cell_type": "markdown",
   "metadata": {
    "slideshow": {
     "slide_type": "slide"
    }
   },
   "source": [
    "Arquivos podem ter o mais variado conteúdo (imagens, videos, audios, documentos, etc), mas do ponto de vista dos programas existem apenas dois tipos de arquivo:\n",
    "\n",
    "**Arquivo texto:** Armazena caracteres que podem ser mostrados diretamente na tela ou modificados por um editor de textos simples. Exemplos: código fonte Python, documento texto simples, páginas HTML.\n",
    "\n",
    "**Arquivo binário:** Sequência de bits sujeita às convenções dos programas que o gerou, não legíveis diretamente. Exemplos: arquivos executáveis, arquivos compactados, documentos do Office."
   ]
  },
  {
   "cell_type": "markdown",
   "metadata": {
    "slideshow": {
     "slide_type": "slide"
    }
   },
   "source": [
    "A motivação principal é que objetos (como inteiros, listas, dicionários) na sua representação em binário, ocupam pouco espaço na memória, quando comparado com sua representação em formato texto:\n",
    "- Para representarmos o número $123456789.00$ na forma textual, teríamos que convertê-lo para strings e gastaríamos 12 bytes para representar este número.\n",
    "- Sua representação binária, no entanto ocupa sempre 64 bits (ou 8 bytes).\n",
    "\n",
    "Armazenar objetos em arquivos de forma análoga a utilizada em memória permite:\n",
    "- Reduzir o tamanho do arquivo.\n",
    "- Guardar estruturas complexas tendo acesso simples."
   ]
  },
  {
   "cell_type": "markdown",
   "metadata": {
    "slideshow": {
     "slide_type": "slide"
    }
   },
   "source": [
    "Se você usar um editor de texto para abrir um arquivo binário, você verá quantidades abundantes de caracteres acentuados aparentemente aleatórios e caracteres incomuns, e linhas longas transbordando de texto $-$ este exercício é seguro, mas inútil. No entanto, editar ou salvar um arquivo binário em um editor de texto irá corromper o arquivo, então nunca faça isso. A razão pela qual a corrupção ocorre é porque aplicar uma interpretação do modo de texto irá alterar certas sequências de bytes $-$ como descartar bytes NUL, converter linhas novas, descartar sequências que são inválidas sob uma certa codificação de caracteres, etc. $-$ o que significa que abrir e salvar um arquivo binário Provavelmente produzem um arquivo com bytes diferentes."
   ]
  },
  {
   "cell_type": "markdown",
   "metadata": {
    "slideshow": {
     "slide_type": "slide"
    }
   },
   "source": [
    "## Abrindo Arquivos Binários"
   ]
  },
  {
   "cell_type": "markdown",
   "metadata": {
    "slideshow": {
     "slide_type": "slide"
    }
   },
   "source": [
    "Assim como em arquivos texto, devemos abrir o arquivo com a função `open` e atribuir o objeto arquivo resultante para um nome.\n",
    "Desta forma o nome estará associado ao objeto arquivo, com métodos para leitura e escrita sobre este:\n",
    "```\n",
    "arq = open(\"nome_do_arquivo\", modo)\n",
    "```\n",
    "onde:\n",
    "\n",
    "| modo | operações |\n",
    "| :--: | :--:      |\n",
    "|  rb  | leitura   |\n",
    "|  wb  | escrita   |\n",
    "| r+b  | leitura e escrita |\n"
   ]
  },
  {
   "cell_type": "markdown",
   "metadata": {
    "slideshow": {
     "slide_type": "slide"
    }
   },
   "source": [
    "## Lendo e Escrevendo em Arquivos Binários"
   ]
  },
  {
   "cell_type": "markdown",
   "metadata": {
    "slideshow": {
     "slide_type": "fragment"
    }
   },
   "source": [
    "Python dispões de vários métodos para ler e escrever em arquivos binários. Nós utilizaremos neste curso o `Pickle`. O módulo `pickle` implementa protocolos binários para serialização e de-serialização de objetos Python. \"\\textit{Pickling}\" é o processo pelo qual uma hierarquia de objetos Python é convertida em um fluxo de bytes, e \"\\textit{Unpickling}\" é a operação inversa, pelo que um fluxo de bytes (de um arquivo binário ou objeto do tipo bytes) é convertido de novo em uma hierarquia de objetos. O \\textit{Pickling} (e o \\textit{Unpickling}) é alternativamente conhecido como \"serialização\", “marshalling,” ou “flattening” no entanto, para evitar confusões, os termos aqui utilizados serão \"\\textit{Pickling}\" e \"\\textit{Unpickling}\"."
   ]
  },
  {
   "cell_type": "markdown",
   "metadata": {
    "slideshow": {
     "slide_type": "slide"
    }
   },
   "source": [
    "Para escrever um objeto em um arquivo binário usamos o método `pickle.dump`.\n",
    "```\n",
    "pickle.dump(objeto, var_arquivo)\n",
    "```\n",
    "\n",
    "onde: \n",
    "- objeto: este é o objeto a ser salvo em arquivo.\n",
    "- var_arquivo: este é o nome associado a um objeto arquivo previamente\n",
    "aberto em modo binário.\n",
    "\n",
    "Por exemplo, o programa a seguir salva uma lista em arquivo:"
   ]
  },
  {
   "cell_type": "code",
   "execution_count": 73,
   "metadata": {
    "slideshow": {
     "slide_type": "slide"
    }
   },
   "outputs": [],
   "source": [
    "import pickle\n",
    "\n",
    "try:\n",
    "    arq = open(\"file/teste.bin\", \"wb\")\n",
    "    lst = [x ** 2 for x in range(20)]\n",
    "    pickle.dump(lst, arq)\n",
    "    arq.close()\n",
    "except IOError:\n",
    "    print(\"Problemas com o arquivo teste.bin\")"
   ]
  },
  {
   "cell_type": "markdown",
   "metadata": {
    "slideshow": {
     "slide_type": "slide"
    }
   },
   "source": [
    "Para ler um objeto de um arquivo binário usamos o método `pickle.load`.\n",
    "```\n",
    "var_objeto = pickle.load(var_arquivo)\n",
    "```\n",
    "onde:\n",
    "- var arquivo: este é o nome associado a um objeto arquivo previamente aberto em modo binário.\n",
    "- O método automaticamente reconhece o tipo de objeto salvo em arquivo, carrega este para a memória e associa este objeto ao nome var_objeto.\n",
    "\n",
    "O programa a seguir lê a lista previamente salva em arquivo:"
   ]
  },
  {
   "cell_type": "code",
   "execution_count": 74,
   "metadata": {
    "slideshow": {
     "slide_type": "slide"
    }
   },
   "outputs": [
    {
     "name": "stdout",
     "output_type": "stream",
     "text": [
      "[0, 1, 4, 9, 16, 25, 36, 49, 64, 81, 100, 121, 144, 169, 196, 225, 256, 289, 324, 361]\n"
     ]
    }
   ],
   "source": [
    "try:\n",
    "    arq = open(\"file/teste.bin\", \"rb\")\n",
    "    lst = pickle.load(arq)\n",
    "    print(lst)\n",
    "    arq.close()\n",
    "except IOError:\n",
    "    print(\"Problemas com o arquivo teste.bin\")"
   ]
  },
  {
   "cell_type": "markdown",
   "metadata": {
    "slideshow": {
     "slide_type": "slide"
    }
   },
   "source": [
    "## Exemplo"
   ]
  },
  {
   "cell_type": "markdown",
   "metadata": {
    "slideshow": {
     "slide_type": "fragment"
    }
   },
   "source": [
    "Neste exemplo, vamos criar um programa que simula um cadastro de alunos de uma turma de IF62C. Para representar o aluno vamos criar um dicionário com os campos `nome` e `notas` que irão armazenar, respectivamente, o nome do aluno e as notas dos alunos de IF62C. Para representar o `cadastro` criaremos um objeto do tipo lista que contém a lista de alunos. Além disso, o programa deverá fornecer um menu de operações com as funções de inserção e remoção do aluno no cadastro, a inserção de notas e a visualização da lista de alunos. No término no programa ele deverá persistir o cadastro para futuras consultas e alterações."
   ]
  },
  {
   "cell_type": "markdown",
   "metadata": {
    "slideshow": {
     "slide_type": "slide"
    }
   },
   "source": [
    "As funções abaixo implementam as operações básicas do programa, recebendo como parâmetro o cadastro:"
   ]
  },
  {
   "cell_type": "code",
   "execution_count": null,
   "metadata": {
    "code_folding": [
     0,
     7,
     15,
     23
    ],
    "slideshow": {
     "slide_type": "fragment"
    }
   },
   "outputs": [],
   "source": [
    "def CreateAluno(cadastro, nome):\n",
    "    aluno = {}\n",
    "    aluno[\"nome\"] = nome\n",
    "    aluno[\"notas\"] = []\n",
    "    cadastro.append(aluno)\n",
    "\n",
    "\n",
    "def ExcluiAluno(cadastro, nome):\n",
    "    for aluno in cadastro:\n",
    "        if aluno[\"nome\"] == nome:\n",
    "            cadastro.remove(aluno)\n",
    "            return\n",
    "    print(nome, \" não encontrado!\")\n",
    "\n",
    "\n",
    "def InsertNotas(cadastro, nome, notas):\n",
    "    for aluno in cadastro:\n",
    "        if aluno[\"nome\"] == nome:\n",
    "            aluno[\"notas\"] += notas.split()\n",
    "            return\n",
    "    print(nome, \" não encontrado!\")\n",
    "\n",
    "\n",
    "def ListaAlunos(cadastro):\n",
    "    for aluno in cadastro:\n",
    "        for key in aluno:\n",
    "            print(key, \": \", aluno[key])"
   ]
  },
  {
   "cell_type": "markdown",
   "metadata": {
    "slideshow": {
     "slide_type": "slide"
    }
   },
   "source": [
    "O menu de opções é implementado abaixo:"
   ]
  },
  {
   "cell_type": "code",
   "execution_count": null,
   "metadata": {
    "code_folding": [],
    "slideshow": {
     "slide_type": "fragment"
    }
   },
   "outputs": [],
   "source": [
    "def Menu(cadastro):\n",
    "    while True:\n",
    "        print(\"\\nEscolha uma opção:\\n 1- Incluir Aluno\\n 2- Excluir Aluno\")\n",
    "        print(\" 3- Incluir Notas\\n 4- Listar Turma\\n 5- Sair\\n\")\n",
    "        op = int(input())\n",
    "        if op == 1:\n",
    "            nome = input(\"Digite o nome do aluno: \")\n",
    "            CreateAluno(cadastro, nome)\n",
    "        elif op == 2:\n",
    "            nome = input(\"Digite o nome do aluno: \")\n",
    "            ExcluiAluno(cadastro, nome)\n",
    "        elif op == 3:\n",
    "            nome = input(\"Digite o nome do aluno: \")\n",
    "            notas = input(\"Digite as notas do aluno separados por espaço: \")\n",
    "            InsertNotas(cadastro, nome, notas)\n",
    "        elif op == 4:\n",
    "            ListaAlunos(cadastro)\n",
    "        elif op == 5:\n",
    "            return\n",
    "        else:\n",
    "            print(\"Opção inválida!\")"
   ]
  },
  {
   "cell_type": "markdown",
   "metadata": {
    "slideshow": {
     "slide_type": "slide"
    }
   },
   "source": [
    "Finalmente, no programa principal, tratamos a persistencia dos dados em memória de disco para futuro uso do mesmo."
   ]
  },
  {
   "cell_type": "code",
   "execution_count": null,
   "metadata": {
    "code_folding": [],
    "slideshow": {
     "slide_type": "fragment"
    }
   },
   "outputs": [],
   "source": [
    "import pickle\n",
    "    \n",
    "try:\n",
    "    cadastro = pickle.load(open(\"cadastro.bin\", \"rb\"))\n",
    "    Menu(cadastro)\n",
    "    print(\"\\nSalvando Cadastro...\")\n",
    "    pickle.dump(cadastro, open(\"cadastro.bin\", \"wb\"))\n",
    "except FileNotFoundError:\n",
    "    print(\"Criando Cadastro...\")\n",
    "    cadastro = []\n",
    "    Menu(cadastro)\n",
    "    pickle.dump(cadastro, open(\"cadastro.bin\", \"wb\"))\n",
    "except IOError:\n",
    "    print(\"Problemas no arquivo de cadastro\")"
   ]
  },
  {
   "cell_type": "code",
   "execution_count": null,
   "metadata": {},
   "outputs": [],
   "source": []
  }
 ],
 "metadata": {
  "kernelspec": {
   "display_name": "Python 3",
   "language": "python",
   "name": "python3"
  },
  "language_info": {
   "codemirror_mode": {
    "name": "ipython",
    "version": 3
   },
   "file_extension": ".py",
   "mimetype": "text/x-python",
   "name": "python",
   "nbconvert_exporter": "python",
   "pygments_lexer": "ipython3",
   "version": "3.6.9"
  },
  "latex_envs": {
   "LaTeX_envs_menu_present": true,
   "autoclose": false,
   "autocomplete": true,
   "bibliofile": "biblio.bib",
   "cite_by": "apalike",
   "current_citInitial": 1,
   "eqLabelWithNumbers": true,
   "eqNumInitial": 1,
   "hotkeys": {
    "equation": "Ctrl-E",
    "itemize": "Ctrl-I"
   },
   "labels_anchors": false,
   "latex_user_defs": false,
   "report_style_numbering": false,
   "user_envs_cfg": false
  },
  "livereveal": {
   "theme": "solarized",
   "transition": "slide"
  },
  "toc": {
   "nav_menu": {},
   "number_sections": true,
   "sideBar": true,
   "skip_h1_title": false,
   "toc_cell": true,
   "toc_position": {},
   "toc_section_display": "block",
   "toc_window_display": false
  }
 },
 "nbformat": 4,
 "nbformat_minor": 2
}
